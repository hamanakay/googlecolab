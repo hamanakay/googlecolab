{
  "nbformat": 4,
  "nbformat_minor": 0,
  "metadata": {
    "colab": {
      "name": "colab_tips.ipynb",
      "provenance": [],
      "toc_visible": true,
      "authorship_tag": "ABX9TyN8Ah14OwEO4LeiHEIIL+D6",
      "include_colab_link": true
    },
    "kernelspec": {
      "name": "python3",
      "display_name": "Python 3"
    }
  },
  "cells": [
    {
      "cell_type": "markdown",
      "metadata": {
        "id": "view-in-github",
        "colab_type": "text"
      },
      "source": [
        "<a href=\"https://colab.research.google.com/github/hamanakay/googlecolab/blob/master/colab_tips.ipynb\" target=\"_parent\"><img src=\"https://colab.research.google.com/assets/colab-badge.svg\" alt=\"Open In Colab\"/></a>"
      ]
    },
    {
      "cell_type": "markdown",
      "metadata": {
        "id": "gzQ6dCr8CkVy",
        "colab_type": "text"
      },
      "source": [
        "OS バージョン"
      ]
    },
    {
      "cell_type": "markdown",
      "metadata": {
        "id": "F56yov_sCywt",
        "colab_type": "text"
      },
      "source": [
        "# Google Colaboratory Tips"
      ]
    },
    {
      "cell_type": "markdown",
      "metadata": {
        "id": "0vQxebDjC9Aj",
        "colab_type": "text"
      },
      "source": [
        "# スペック確認"
      ]
    },
    {
      "cell_type": "markdown",
      "metadata": {
        "id": "G5Rw8NgcDRT9",
        "colab_type": "text"
      },
      "source": [
        "OS バージョン"
      ]
    },
    {
      "cell_type": "code",
      "metadata": {
        "id": "fDa5L2peBjuO",
        "colab_type": "code",
        "colab": {}
      },
      "source": [
        "!cat /etc/issue"
      ],
      "execution_count": 0,
      "outputs": []
    },
    {
      "cell_type": "markdown",
      "metadata": {
        "id": "Z5A2dNuWDX8L",
        "colab_type": "text"
      },
      "source": [
        "容量確認"
      ]
    },
    {
      "cell_type": "code",
      "metadata": {
        "id": "diuGVnAYCVVd",
        "colab_type": "code",
        "colab": {}
      },
      "source": [
        "!df -h"
      ],
      "execution_count": 0,
      "outputs": []
    },
    {
      "cell_type": "markdown",
      "metadata": {
        "id": "SqvMsROLDcpW",
        "colab_type": "text"
      },
      "source": [
        "メモリ確認"
      ]
    },
    {
      "cell_type": "code",
      "metadata": {
        "id": "ZL8QILMtCaVA",
        "colab_type": "code",
        "colab": {}
      },
      "source": [
        "!free -h"
      ],
      "execution_count": 0,
      "outputs": []
    },
    {
      "cell_type": "code",
      "metadata": {
        "id": "kX1NO-WtDry_",
        "colab_type": "code",
        "colab": {}
      },
      "source": [
        "!apt-get install lshw\n",
        "!lshw"
      ],
      "execution_count": 0,
      "outputs": []
    },
    {
      "cell_type": "markdown",
      "metadata": {
        "id": "tiYZ7TDlG6G5",
        "colab_type": "text"
      },
      "source": [
        "# ライブラリ"
      ]
    },
    {
      "cell_type": "markdown",
      "metadata": {
        "id": "tWgTyhcXHTQ7",
        "colab_type": "text"
      },
      "source": [
        "ライブラリのインストール"
      ]
    },
    {
      "cell_type": "code",
      "metadata": {
        "id": "wU0Mm6PeHWgf",
        "colab_type": "code",
        "colab": {}
      },
      "source": [
        "#!pip install pandas\n",
        "#!pip install pandas==0.0.0 #バージョン指定あり"
      ],
      "execution_count": 0,
      "outputs": []
    },
    {
      "cell_type": "markdown",
      "metadata": {
        "id": "n5objxUgHsuN",
        "colab_type": "text"
      },
      "source": [
        "TensorFlowは、1.x系と2.x系を以下のコマンドで切り替え可能。ランタイムを起動したら、以下のどちらかを最初に実行しておくのが良い。"
      ]
    },
    {
      "cell_type": "code",
      "metadata": {
        "id": "VyztoHlZH3_4",
        "colab_type": "code",
        "colab": {}
      },
      "source": [
        "%tensorflow_version 1.x #1.x\n",
        "import tensorflow as tf\n",
        "print(tf.__version__)"
      ],
      "execution_count": 0,
      "outputs": []
    },
    {
      "cell_type": "code",
      "metadata": {
        "id": "nCbtpfE8HwBg",
        "colab_type": "code",
        "colab": {}
      },
      "source": [
        "%tensorflow_version 2.x #2.x\n",
        "import tensorflow as tf\n",
        "print(tf.__version__)"
      ],
      "execution_count": 0,
      "outputs": []
    },
    {
      "cell_type": "markdown",
      "metadata": {
        "id": "7tb6WmiXFxY5",
        "colab_type": "text"
      },
      "source": [
        "pythonバージョン"
      ]
    },
    {
      "cell_type": "code",
      "metadata": {
        "id": "JtRlKxo6FFnL",
        "colab_type": "code",
        "colab": {
          "base_uri": "https://localhost:8080/",
          "height": 34
        },
        "outputId": "4fe3aab6-37b2-46c2-a4ac-87665b24b358"
      },
      "source": [
        "import platform\n",
        "print(\"python \" + platform.python_version())"
      ],
      "execution_count": 5,
      "outputs": [
        {
          "output_type": "stream",
          "text": [
            "python 3.6.9\n"
          ],
          "name": "stdout"
        }
      ]
    },
    {
      "cell_type": "markdown",
      "metadata": {
        "id": "Xnn5-tTdF1Gt",
        "colab_type": "text"
      },
      "source": [
        "インストール済みのライブラリ及びバージョン"
      ]
    },
    {
      "cell_type": "code",
      "metadata": {
        "id": "8dPfFDpXFPLz",
        "colab_type": "code",
        "colab": {}
      },
      "source": [
        "import pkg_resources\n",
        "for dist in pkg_resources.working_set:\n",
        "  print(dist)"
      ],
      "execution_count": 0,
      "outputs": []
    },
    {
      "cell_type": "markdown",
      "metadata": {
        "id": "YEJgtSNcGSEu",
        "colab_type": "text"
      },
      "source": [
        "バージョンを確認したいライブラリのリストを作成"
      ]
    },
    {
      "cell_type": "code",
      "metadata": {
        "id": "5xNX1hGpGSwK",
        "colab_type": "code",
        "colab": {}
      },
      "source": [
        "pkglist = ['numpy', 'scikit-learn', 'matplotlib', 'seaborn', 'pandas']"
      ],
      "execution_count": 0,
      "outputs": []
    },
    {
      "cell_type": "markdown",
      "metadata": {
        "id": "paW-oEglGcMG",
        "colab_type": "text"
      },
      "source": [
        "バージョン確認"
      ]
    },
    {
      "cell_type": "code",
      "metadata": {
        "id": "s8G-0CUGGe6W",
        "colab_type": "code",
        "colab": {
          "base_uri": "https://localhost:8080/",
          "height": 102
        },
        "outputId": "9f06e5b1-6f04-401f-f37b-4b2abc1d5b86"
      },
      "source": [
        "import pkg_resources\n",
        "\n",
        "for dist in pkg_resources.working_set:\n",
        "    if dist.project_name in pkglist:\n",
        "        print(dist.project_name, dist.version)"
      ],
      "execution_count": 9,
      "outputs": [
        {
          "output_type": "stream",
          "text": [
            "seaborn 0.10.1\n",
            "scikit-learn 0.22.2.post1\n",
            "pandas 1.0.4\n",
            "numpy 1.18.4\n",
            "matplotlib 3.2.1\n"
          ],
          "name": "stdout"
        }
      ]
    },
    {
      "cell_type": "markdown",
      "metadata": {
        "id": "zw0PVPDPIL0K",
        "colab_type": "text"
      },
      "source": [
        "# データのアップロード・ダウンロード"
      ]
    },
    {
      "cell_type": "markdown",
      "metadata": {
        "id": "_l59Te_8IUsD",
        "colab_type": "text"
      },
      "source": [
        "Google Colab上にデータをアップロード"
      ]
    },
    {
      "cell_type": "code",
      "metadata": {
        "id": "p1Lsc9UUIVYC",
        "colab_type": "code",
        "colab": {}
      },
      "source": [
        "from google.colab import files\n",
        "uploaded = files.upload()"
      ],
      "execution_count": 0,
      "outputs": []
    },
    {
      "cell_type": "markdown",
      "metadata": {
        "id": "Zy09tYMWIYry",
        "colab_type": "text"
      },
      "source": [
        "Google Colab上のデータのダウンロード （以下は、test.txt というファイルをダウンロード）"
      ]
    },
    {
      "cell_type": "code",
      "metadata": {
        "id": "NbTUU967IctF",
        "colab_type": "code",
        "colab": {}
      },
      "source": [
        "from google.colab import files\n",
        "# files.download('test.txt')"
      ],
      "execution_count": 0,
      "outputs": []
    },
    {
      "cell_type": "markdown",
      "metadata": {
        "id": "iZPyxD7dIoQv",
        "colab_type": "text"
      },
      "source": [
        "# Google Driveのデータを使用する"
      ]
    },
    {
      "cell_type": "markdown",
      "metadata": {
        "id": "ojbMlWmbIqab",
        "colab_type": "text"
      },
      "source": [
        "コマンドを実行"
      ]
    },
    {
      "cell_type": "code",
      "metadata": {
        "id": "mp_20JiJNuIE",
        "colab_type": "code",
        "colab": {
          "base_uri": "https://localhost:8080/",
          "height": 122
        },
        "outputId": "219837bc-0130-404c-d840-1e6e3750f902"
      },
      "source": [
        "from google.colab import drive\n",
        "drive.mount('/content/drive')"
      ],
      "execution_count": 1,
      "outputs": [
        {
          "output_type": "stream",
          "text": [
            "Go to this URL in a browser: https://accounts.google.com/o/oauth2/auth?client_id=947318989803-6bn6qk8qdgf4n4g3pfee6491hc0brc4i.apps.googleusercontent.com&redirect_uri=urn%3aietf%3awg%3aoauth%3a2.0%3aoob&response_type=code&scope=email%20https%3a%2f%2fwww.googleapis.com%2fauth%2fdocs.test%20https%3a%2f%2fwww.googleapis.com%2fauth%2fdrive%20https%3a%2f%2fwww.googleapis.com%2fauth%2fdrive.photos.readonly%20https%3a%2f%2fwww.googleapis.com%2fauth%2fpeopleapi.readonly\n",
            "\n",
            "Enter your authorization code:\n",
            "··········\n",
            "Mounted at /content/drive\n"
          ],
          "name": "stdout"
        }
      ]
    },
    {
      "cell_type": "markdown",
      "metadata": {
        "id": "Y8XaHTkiN9aL",
        "colab_type": "text"
      },
      "source": [
        "上記のようにURLリンクが表示されて認証コードの入力が求められます。"
      ]
    },
    {
      "cell_type": "markdown",
      "metadata": {
        "id": "zYBKYr4xJYr4",
        "colab_type": "text"
      },
      "source": [
        "*URLリンクをクリックしGoogleアカウント選択画面表示\n",
        "*使用したいアカウントを選択\n",
        "*続いて、Google ColabにGoogle Driveのアクセスの許可を与えて良いかの確認画面が出てくるので「許可」\n",
        "*コードをコピーし、先ほど表示されたテキストの認証コード１へ入力「Enter your authorization code:」の下部にコピーしたコードを貼付\n",
        "*「/content/drive」というディレクトリのMy Driveディレクトリ以下に自分のGoogle Driveのファイルがマウントされます。\n",
        "*正しく連携できていれば、Google Colab上で以下コマンドを実行すると、Google DriveのMy Driveのデータが表示されます。"
      ]
    },
    {
      "cell_type": "code",
      "metadata": {
        "id": "2piXzZidIuGr",
        "colab_type": "code",
        "colab": {
          "base_uri": "https://localhost:8080/",
          "height": 153
        },
        "outputId": "472c2bf5-f45a-4e77-b26a-e7c44a94509c"
      },
      "source": [
        "!ls '/content/drive/My Drive'"
      ],
      "execution_count": 2,
      "outputs": [
        {
          "output_type": "stream",
          "text": [
            "'Colab Notebooks'   P1000219.JPG   P1000227.JPG\n",
            " DSC_0034.JPG\t    P1000220.JPG   P1000228.JPG\n",
            " P1000213.JPG\t    P1000221.JPG   P1000229.JPG\n",
            " P1000214.JPG\t    P1000222.JPG   P1000230.JPG\n",
            " P1000215.JPG\t    P1000223.JPG   P1000231.JPG\n",
            " P1000216.JPG\t    P1000224.JPG  'Startup Idea Matrix.xlsx'\n",
            " P1000217.JPG\t    P1000225.JPG   御請求書_業務委託費用181228.xlsx\n",
            " P1000218.JPG\t    P1000226.JPG   操作マニュアル\n"
          ],
          "name": "stdout"
        }
      ]
    },
    {
      "cell_type": "markdown",
      "metadata": {
        "id": "7wwbC41hKRSl",
        "colab_type": "text"
      },
      "source": [
        "ファイルが見えたら、後はcpコマンドで直接Google ColabとGooogle Drive間でデータをやりとりできます。"
      ]
    },
    {
      "cell_type": "markdown",
      "metadata": {
        "id": "r-Bsw3O_QY2F",
        "colab_type": "text"
      },
      "source": [
        "後は、cpやmvコマンドでGoogle ColabとGoogle Drive上のデータを好きにやりとりできます。例えば、Google Colab上のtest.txtというファイルをGoogle Drive上に移動したいときは、以下のようなコマンドを実行することで実現できます。"
      ]
    },
    {
      "cell_type": "code",
      "metadata": {
        "id": "dvqaSyHYQOHY",
        "colab_type": "code",
        "colab": {}
      },
      "source": [
        "!mv test.jpg  '/content/drive/My Drive'"
      ],
      "execution_count": 0,
      "outputs": []
    },
    {
      "cell_type": "markdown",
      "metadata": {
        "id": "J2KqHZWLKe9Q",
        "colab_type": "text"
      },
      "source": [
        "# 画像の表示"
      ]
    },
    {
      "cell_type": "markdown",
      "metadata": {
        "id": "bGj32cktKjIg",
        "colab_type": "text"
      },
      "source": [
        "サンプル画像をダウンロード"
      ]
    },
    {
      "cell_type": "code",
      "metadata": {
        "id": "taOQFNQzKlx3",
        "colab_type": "code",
        "colab": {
          "base_uri": "https://localhost:8080/",
          "height": 204
        },
        "outputId": "3c8c1a38-a0b4-434f-e4bd-9ef8c4f603ed"
      },
      "source": [
        "!wget -O test.jpg https://hhh-sol.com/wp-content/uploads/2019/06/python-logo.png"
      ],
      "execution_count": 11,
      "outputs": [
        {
          "output_type": "stream",
          "text": [
            "--2020-06-05 12:07:26--  https://hhh-sol.com/wp-content/uploads/2019/06/python-logo.png\n",
            "Resolving hhh-sol.com (hhh-sol.com)... 183.181.88.80\n",
            "Connecting to hhh-sol.com (hhh-sol.com)|183.181.88.80|:443... connected.\n",
            "HTTP request sent, awaiting response... 200 OK\n",
            "Length: 26426 (26K) [image/png]\n",
            "Saving to: ‘test.jpg’\n",
            "\n",
            "test.jpg            100%[===================>]  25.81K  --.-KB/s    in 0s      \n",
            "\n",
            "2020-06-05 12:07:27 (168 MB/s) - ‘test.jpg’ saved [26426/26426]\n",
            "\n"
          ],
          "name": "stdout"
        }
      ]
    },
    {
      "cell_type": "markdown",
      "metadata": {
        "id": "P5m-T1JOLb44",
        "colab_type": "text"
      },
      "source": [
        "IPython.displayを使用する方法"
      ]
    },
    {
      "cell_type": "code",
      "metadata": {
        "id": "mx700YIzLdPO",
        "colab_type": "code",
        "colab": {
          "base_uri": "https://localhost:8080/",
          "height": 417
        },
        "outputId": "1d02af9d-b1a1-4067-9b44-6efdee8906d3"
      },
      "source": [
        "from IPython.display import Image,display_jpeg\n",
        "display_jpeg(Image('test.jpg'))"
      ],
      "execution_count": 12,
      "outputs": [
        {
          "output_type": "display_data",
          "data": {
            "image/jpeg": "[encoded data removed]"
          },
          "metadata": {
            "tags": []
          }
        }
      ]
    },
    {
      "cell_type": "markdown",
      "metadata": {
        "id": "uHwad3xNYhWO",
        "colab_type": "text"
      },
      "source": [
        "Matplotlibを使用する方法"
      ]
    },
    {
      "cell_type": "code",
      "metadata": {
        "id": "wJzpldC1YgnW",
        "colab_type": "code",
        "colab": {
          "base_uri": "https://localhost:8080/",
          "height": 273
        },
        "outputId": "1114deda-cd92-40b7-c6b3-01557636e61f"
      },
      "source": [
        "from PIL import Image\n",
        "from matplotlib.pyplot import imshow\n",
        "\n",
        "img = Image.open(\"test.jpg\")\n",
        "imshow(img)"
      ],
      "execution_count": 13,
      "outputs": [
        {
          "output_type": "execute_result",
          "data": {
            "text/plain": [
              "<matplotlib.image.AxesImage at 0x7f4d1024a550>"
            ]
          },
          "metadata": {
            "tags": []
          },
          "execution_count": 13
        },
        {
          "output_type": "display_data",
          "data": {
            "image/png": "[encoded data removed]",
            "text/plain": [
              "<Figure size 432x288 with 1 Axes>"
            ]
          },
          "metadata": {
            "tags": [],
            "needs_background": "light"
          }
        }
      ]
    },
    {
      "cell_type": "markdown",
      "metadata": {
        "id": "pBTC8rdqY2d2",
        "colab_type": "text"
      },
      "source": [
        "枠線を消す方法"
      ]
    },
    {
      "cell_type": "code",
      "metadata": {
        "id": "cWspF8rXY1bH",
        "colab_type": "code",
        "colab": {
          "base_uri": "https://localhost:8080/",
          "height": 235
        },
        "outputId": "a98b2ecc-a654-4220-c6f9-2c68b90adfa1"
      },
      "source": [
        "from matplotlib import pyplot as plt \n",
        "\n",
        "plt.imshow(img)\n",
        "plt.axis('off')\n",
        "plt.show()"
      ],
      "execution_count": 16,
      "outputs": [
        {
          "output_type": "display_data",
          "data": {
            "image/png": "[encoded data removed]",
            "text/plain": [
              "<Figure size 432x288 with 1 Axes>"
            ]
          },
          "metadata": {
            "tags": [],
            "needs_background": "light"
          }
        }
      ]
    },
    {
      "cell_type": "markdown",
      "metadata": {
        "id": "u5gP69zaZeIS",
        "colab_type": "text"
      },
      "source": [
        "Matplotlibの日本語化"
      ]
    },
    {
      "cell_type": "markdown",
      "metadata": {
        "id": "I5hz-jfAaQKH",
        "colab_type": "text"
      },
      "source": [
        "# matplotlibで日本語使用"
      ]
    },
    {
      "cell_type": "code",
      "metadata": {
        "id": "C_KMfaKcZci3",
        "colab_type": "code",
        "colab": {
          "base_uri": "https://localhost:8080/",
          "height": 326
        },
        "outputId": "3432cef3-e921-4b8d-d3e6-fca87b048598"
      },
      "source": [
        "!pip install japanize-matplotlib"
      ],
      "execution_count": 18,
      "outputs": [
        {
          "output_type": "stream",
          "text": [
            "Collecting japanize-matplotlib\n",
            "\u001b[?25l  Downloading https://files.pythonhosted.org/packages/2c/aa/3b24d54bd02e25d63c8f23bb316694e1aad7ffdc07ba296e7c9be2f6837d/japanize-matplotlib-1.1.2.tar.gz (4.1MB)\n",
            "\u001b[K     |████████████████████████████████| 4.1MB 3.2MB/s \n",
            "\u001b[?25hRequirement already satisfied: matplotlib in /usr/local/lib/python3.6/dist-packages (from japanize-matplotlib) (3.2.1)\n",
            "Requirement already satisfied: cycler>=0.10 in /usr/local/lib/python3.6/dist-packages (from matplotlib->japanize-matplotlib) (0.10.0)\n",
            "Requirement already satisfied: pyparsing!=2.0.4,!=2.1.2,!=2.1.6,>=2.0.1 in /usr/local/lib/python3.6/dist-packages (from matplotlib->japanize-matplotlib) (2.4.7)\n",
            "Requirement already satisfied: python-dateutil>=2.1 in /usr/local/lib/python3.6/dist-packages (from matplotlib->japanize-matplotlib) (2.8.1)\n",
            "Requirement already satisfied: numpy>=1.11 in /usr/local/lib/python3.6/dist-packages (from matplotlib->japanize-matplotlib) (1.18.4)\n",
            "Requirement already satisfied: kiwisolver>=1.0.1 in /usr/local/lib/python3.6/dist-packages (from matplotlib->japanize-matplotlib) (1.2.0)\n",
            "Requirement already satisfied: six in /usr/local/lib/python3.6/dist-packages (from cycler>=0.10->matplotlib->japanize-matplotlib) (1.12.0)\n",
            "Building wheels for collected packages: japanize-matplotlib\n",
            "  Building wheel for japanize-matplotlib (setup.py) ... \u001b[?25l\u001b[?25hdone\n",
            "  Created wheel for japanize-matplotlib: filename=japanize_matplotlib-1.1.2-cp36-none-any.whl size=4120191 sha256=10f8653717286c4d5c68e7098266eefbbf072b307e699ca21ebf93ddbceeb1c9\n",
            "  Stored in directory: /root/.cache/pip/wheels/9c/f9/fc/bc052ce743a03f94ccc7fda73d1d389ce98216c6ffaaf65afc\n",
            "Successfully built japanize-matplotlib\n",
            "Installing collected packages: japanize-matplotlib\n",
            "Successfully installed japanize-matplotlib-1.1.2\n"
          ],
          "name": "stdout"
        }
      ]
    },
    {
      "cell_type": "markdown",
      "metadata": {
        "id": "3W5gF6fIZkM0",
        "colab_type": "text"
      },
      "source": [
        "日本語の入ったグラフで描く"
      ]
    },
    {
      "cell_type": "code",
      "metadata": {
        "id": "9MBQUN9QZq0v",
        "colab_type": "code",
        "colab": {
          "base_uri": "https://localhost:8080/",
          "height": 349
        },
        "outputId": "c75647b2-1210-4822-eaca-329bd161ae74"
      },
      "source": [
        "import matplotlib.pyplot as plt\n",
        "import japanize_matplotlib\n",
        "\n",
        "plt.plot([1, 2, 3, 4])\n",
        "plt.xlabel('簡単なグラフ')\n",
        "plt.show()"
      ],
      "execution_count": 19,
      "outputs": [
        {
          "output_type": "stream",
          "text": [
            "/usr/local/lib/python3.6/dist-packages/japanize_matplotlib/japanize_matplotlib.py:15: MatplotlibDeprecationWarning: \n",
            "The createFontList function was deprecated in Matplotlib 3.2 and will be removed two minor releases later. Use FontManager.addfont instead.\n",
            "  font_list = font_manager.createFontList(font_files)\n"
          ],
          "name": "stderr"
        },
        {
          "output_type": "display_data",
          "data": {
            "image/png": "[encoded data removed]",
            "text/plain": [
              "<Figure size 432x288 with 1 Axes>"
            ]
          },
          "metadata": {
            "tags": [],
            "needs_background": "light"
          }
        }
      ]
    },
    {
      "cell_type": "markdown",
      "metadata": {
        "id": "BOBjACZJab8v",
        "colab_type": "text"
      },
      "source": [
        "参考リンク\n",
        "【秒速で無料GPUを使う】TensorfFow/Keras/PyTorch/Chainer環境構築 on Colaboratory\n",
        "\n",
        "【秒速で無料GPUを使う】深層学習実践Tips on Colaboratory"
      ]
    },
    {
      "cell_type": "markdown",
      "metadata": {
        "id": "D0v4OWFjdzLv",
        "colab_type": "text"
      },
      "source": [
        "# Github"
      ]
    },
    {
      "cell_type": "markdown",
      "metadata": {
        "id": "Y4LO7cjKd2gb",
        "colab_type": "text"
      },
      "source": [
        "GitHub上のJupyter NotebookファイルをGoogle Colaboratory上で実行"
      ]
    },
    {
      "cell_type": "markdown",
      "metadata": {
        "id": "_FpMiiekeBDe",
        "colab_type": "text"
      },
      "source": [
        "Google Colab起動直後の画面で「GITHUB」のタブを選択します。"
      ]
    },
    {
      "cell_type": "markdown",
      "metadata": {
        "id": "bh68WseyeK5q",
        "colab_type": "text"
      },
      "source": [
        "対象のGitHub上にアップされたJupyter Notebookのアドレスを入力\n",
        "https://colab.research.google.com/github/moizumi99/raw_process/blob/master/part1_ISP_Basic_Process.ipynb"
      ]
    },
    {
      "cell_type": "markdown",
      "metadata": {
        "id": "hqliep8yjs-x",
        "colab_type": "text"
      },
      "source": [
        ""
      ]
    }
  ]
}